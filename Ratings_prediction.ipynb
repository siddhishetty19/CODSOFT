{
 "cells": [
  {
   "cell_type": "code",
   "execution_count": 1,
   "id": "860f3c98-8c2a-4d0a-937a-bcc8c7e3e748",
   "metadata": {},
   "outputs": [],
   "source": [
    "# TASK 1 : Movie Ratings Prediction\n",
    "# Bactch : Aug \n",
    "# Domain : Data Science "
   ]
  },
  {
   "cell_type": "code",
   "execution_count": 2,
   "id": "c0c4561d-5928-4fc6-9e82-fb9a4e40feca",
   "metadata": {},
   "outputs": [],
   "source": [
    "import pandas as pd\n",
    "import numpy as np\n",
    "import matplotlib.pyplot as plt\n",
    "import seaborn as sns\n",
    "\n",
    "from sklearn.model_selection import train_test_split, GridSearchCV\n",
    "from sklearn.linear_model import LinearRegression\n",
    "from sklearn.ensemble import RandomForestRegressor, GradientBoostingRegressor\n",
    "from sklearn.metrics import mean_absolute_error, mean_squared_error, r2_score\n",
    "import pickle"
   ]
  },
  {
   "cell_type": "code",
   "execution_count": 3,
   "id": "3dc21825-a394-4461-901b-57fd1a0bcaf9",
   "metadata": {},
   "outputs": [],
   "source": [
    "import os \n",
    "os.chdir(\"C:\\\\Users\\\\Admin\\\\OneDrive\\\\Documents\\\\dataset\")"
   ]
  },
  {
   "cell_type": "code",
   "execution_count": 4,
   "id": "e9e1fb76-00fe-49b0-964a-dac94d36d529",
   "metadata": {},
   "outputs": [
    {
     "data": {
      "text/html": [
       "<div>\n",
       "<style scoped>\n",
       "    .dataframe tbody tr th:only-of-type {\n",
       "        vertical-align: middle;\n",
       "    }\n",
       "\n",
       "    .dataframe tbody tr th {\n",
       "        vertical-align: top;\n",
       "    }\n",
       "\n",
       "    .dataframe thead th {\n",
       "        text-align: right;\n",
       "    }\n",
       "</style>\n",
       "<table border=\"1\" class=\"dataframe\">\n",
       "  <thead>\n",
       "    <tr style=\"text-align: right;\">\n",
       "      <th></th>\n",
       "      <th>Poster_Link</th>\n",
       "      <th>Movies</th>\n",
       "      <th>Year</th>\n",
       "      <th>Certificate</th>\n",
       "      <th>Duration</th>\n",
       "      <th>Genre</th>\n",
       "      <th>Rating</th>\n",
       "      <th>Overview</th>\n",
       "      <th>Meta_score</th>\n",
       "      <th>Director</th>\n",
       "      <th>Actor 1</th>\n",
       "      <th>Actor 2</th>\n",
       "      <th>Actor 3</th>\n",
       "      <th>Actor 4</th>\n",
       "      <th>votes</th>\n",
       "    </tr>\n",
       "  </thead>\n",
       "  <tbody>\n",
       "    <tr>\n",
       "      <th>0</th>\n",
       "      <td>https://m.media-amazon.com/images/M/MV5BMDFkYT...</td>\n",
       "      <td>The Shawshank Redemption</td>\n",
       "      <td>1994</td>\n",
       "      <td>A</td>\n",
       "      <td>142 min</td>\n",
       "      <td>Drama</td>\n",
       "      <td>9.3</td>\n",
       "      <td>Two imprisoned men bond over a number of years...</td>\n",
       "      <td>80.0</td>\n",
       "      <td>Frank Darabont</td>\n",
       "      <td>Tim Robbins</td>\n",
       "      <td>Morgan Freeman</td>\n",
       "      <td>Bob Gunton</td>\n",
       "      <td>William Sadler</td>\n",
       "      <td>2343110</td>\n",
       "    </tr>\n",
       "    <tr>\n",
       "      <th>1</th>\n",
       "      <td>https://m.media-amazon.com/images/M/MV5BM2MyNj...</td>\n",
       "      <td>The Godfather</td>\n",
       "      <td>1972</td>\n",
       "      <td>A</td>\n",
       "      <td>175 min</td>\n",
       "      <td>Crime, Drama</td>\n",
       "      <td>9.2</td>\n",
       "      <td>An organized crime dynasty's aging patriarch t...</td>\n",
       "      <td>100.0</td>\n",
       "      <td>Francis Ford Coppola</td>\n",
       "      <td>Marlon Brando</td>\n",
       "      <td>Al Pacino</td>\n",
       "      <td>James Caan</td>\n",
       "      <td>Diane Keaton</td>\n",
       "      <td>1620367</td>\n",
       "    </tr>\n",
       "    <tr>\n",
       "      <th>2</th>\n",
       "      <td>https://m.media-amazon.com/images/M/MV5BMTMxNT...</td>\n",
       "      <td>The Dark Knight</td>\n",
       "      <td>2008</td>\n",
       "      <td>UA</td>\n",
       "      <td>152 min</td>\n",
       "      <td>Action, Crime, Drama</td>\n",
       "      <td>9.0</td>\n",
       "      <td>When the menace known as the Joker wreaks havo...</td>\n",
       "      <td>84.0</td>\n",
       "      <td>Christopher Nolan</td>\n",
       "      <td>Christian Bale</td>\n",
       "      <td>Heath Ledger</td>\n",
       "      <td>Aaron Eckhart</td>\n",
       "      <td>Michael Caine</td>\n",
       "      <td>2303232</td>\n",
       "    </tr>\n",
       "    <tr>\n",
       "      <th>3</th>\n",
       "      <td>https://m.media-amazon.com/images/M/MV5BMWMwMG...</td>\n",
       "      <td>The Godfather: Part II</td>\n",
       "      <td>1974</td>\n",
       "      <td>A</td>\n",
       "      <td>202 min</td>\n",
       "      <td>Crime, Drama</td>\n",
       "      <td>9.0</td>\n",
       "      <td>The early life and career of Vito Corleone in ...</td>\n",
       "      <td>90.0</td>\n",
       "      <td>Francis Ford Coppola</td>\n",
       "      <td>Al Pacino</td>\n",
       "      <td>Robert De Niro</td>\n",
       "      <td>Robert Duvall</td>\n",
       "      <td>Diane Keaton</td>\n",
       "      <td>1129952</td>\n",
       "    </tr>\n",
       "    <tr>\n",
       "      <th>4</th>\n",
       "      <td>https://m.media-amazon.com/images/M/MV5BMWU4N2...</td>\n",
       "      <td>12 Angry Men</td>\n",
       "      <td>1957</td>\n",
       "      <td>U</td>\n",
       "      <td>96 min</td>\n",
       "      <td>Crime, Drama</td>\n",
       "      <td>9.0</td>\n",
       "      <td>A jury holdout attempts to prevent a miscarria...</td>\n",
       "      <td>96.0</td>\n",
       "      <td>Sidney Lumet</td>\n",
       "      <td>Henry Fonda</td>\n",
       "      <td>Lee J. Cobb</td>\n",
       "      <td>Martin Balsam</td>\n",
       "      <td>John Fiedler</td>\n",
       "      <td>689845</td>\n",
       "    </tr>\n",
       "  </tbody>\n",
       "</table>\n",
       "</div>"
      ],
      "text/plain": [
       "                                         Poster_Link  \\\n",
       "0  https://m.media-amazon.com/images/M/MV5BMDFkYT...   \n",
       "1  https://m.media-amazon.com/images/M/MV5BM2MyNj...   \n",
       "2  https://m.media-amazon.com/images/M/MV5BMTMxNT...   \n",
       "3  https://m.media-amazon.com/images/M/MV5BMWMwMG...   \n",
       "4  https://m.media-amazon.com/images/M/MV5BMWU4N2...   \n",
       "\n",
       "                     Movies  Year Certificate Duration                 Genre  \\\n",
       "0  The Shawshank Redemption  1994           A  142 min                 Drama   \n",
       "1             The Godfather  1972           A  175 min          Crime, Drama   \n",
       "2           The Dark Knight  2008          UA  152 min  Action, Crime, Drama   \n",
       "3    The Godfather: Part II  1974           A  202 min          Crime, Drama   \n",
       "4              12 Angry Men  1957           U   96 min          Crime, Drama   \n",
       "\n",
       "   Rating                                           Overview  Meta_score  \\\n",
       "0     9.3  Two imprisoned men bond over a number of years...        80.0   \n",
       "1     9.2  An organized crime dynasty's aging patriarch t...       100.0   \n",
       "2     9.0  When the menace known as the Joker wreaks havo...        84.0   \n",
       "3     9.0  The early life and career of Vito Corleone in ...        90.0   \n",
       "4     9.0  A jury holdout attempts to prevent a miscarria...        96.0   \n",
       "\n",
       "               Director         Actor 1         Actor 2        Actor 3  \\\n",
       "0        Frank Darabont     Tim Robbins  Morgan Freeman     Bob Gunton   \n",
       "1  Francis Ford Coppola   Marlon Brando       Al Pacino     James Caan   \n",
       "2     Christopher Nolan  Christian Bale    Heath Ledger  Aaron Eckhart   \n",
       "3  Francis Ford Coppola       Al Pacino  Robert De Niro  Robert Duvall   \n",
       "4          Sidney Lumet     Henry Fonda     Lee J. Cobb  Martin Balsam   \n",
       "\n",
       "          Actor 4    votes  \n",
       "0  William Sadler  2343110  \n",
       "1    Diane Keaton  1620367  \n",
       "2   Michael Caine  2303232  \n",
       "3    Diane Keaton  1129952  \n",
       "4    John Fiedler   689845  "
      ]
     },
     "execution_count": 4,
     "metadata": {},
     "output_type": "execute_result"
    }
   ],
   "source": [
    "df = pd.read_csv(\"movies.csv\")\n",
    "df.head()\n"
   ]
  },
  {
   "cell_type": "code",
   "execution_count": 5,
   "id": "b630bad2-0488-425d-8a55-794c6425f5d8",
   "metadata": {},
   "outputs": [
    {
     "name": "stdout",
     "output_type": "stream",
     "text": [
      "<class 'pandas.core.frame.DataFrame'>\n",
      "RangeIndex: 1000 entries, 0 to 999\n",
      "Data columns (total 15 columns):\n",
      " #   Column       Non-Null Count  Dtype  \n",
      "---  ------       --------------  -----  \n",
      " 0   Poster_Link  1000 non-null   object \n",
      " 1   Movies       1000 non-null   object \n",
      " 2   Year         1000 non-null   object \n",
      " 3   Certificate  899 non-null    object \n",
      " 4   Duration     1000 non-null   object \n",
      " 5   Genre        1000 non-null   object \n",
      " 6   Rating       1000 non-null   float64\n",
      " 7   Overview     1000 non-null   object \n",
      " 8   Meta_score   843 non-null    float64\n",
      " 9   Director     1000 non-null   object \n",
      " 10  Actor 1      1000 non-null   object \n",
      " 11  Actor 2      1000 non-null   object \n",
      " 12  Actor 3      1000 non-null   object \n",
      " 13  Actor 4      1000 non-null   object \n",
      " 14  votes        1000 non-null   int64  \n",
      "dtypes: float64(2), int64(1), object(12)\n",
      "memory usage: 117.3+ KB\n"
     ]
    },
    {
     "data": {
      "text/html": [
       "<div>\n",
       "<style scoped>\n",
       "    .dataframe tbody tr th:only-of-type {\n",
       "        vertical-align: middle;\n",
       "    }\n",
       "\n",
       "    .dataframe tbody tr th {\n",
       "        vertical-align: top;\n",
       "    }\n",
       "\n",
       "    .dataframe thead th {\n",
       "        text-align: right;\n",
       "    }\n",
       "</style>\n",
       "<table border=\"1\" class=\"dataframe\">\n",
       "  <thead>\n",
       "    <tr style=\"text-align: right;\">\n",
       "      <th></th>\n",
       "      <th>Rating</th>\n",
       "      <th>Meta_score</th>\n",
       "      <th>votes</th>\n",
       "    </tr>\n",
       "  </thead>\n",
       "  <tbody>\n",
       "    <tr>\n",
       "      <th>count</th>\n",
       "      <td>1000.000000</td>\n",
       "      <td>843.000000</td>\n",
       "      <td>1.000000e+03</td>\n",
       "    </tr>\n",
       "    <tr>\n",
       "      <th>mean</th>\n",
       "      <td>7.949300</td>\n",
       "      <td>77.971530</td>\n",
       "      <td>2.736929e+05</td>\n",
       "    </tr>\n",
       "    <tr>\n",
       "      <th>std</th>\n",
       "      <td>0.275491</td>\n",
       "      <td>12.376099</td>\n",
       "      <td>3.273727e+05</td>\n",
       "    </tr>\n",
       "    <tr>\n",
       "      <th>min</th>\n",
       "      <td>7.600000</td>\n",
       "      <td>28.000000</td>\n",
       "      <td>2.508800e+04</td>\n",
       "    </tr>\n",
       "    <tr>\n",
       "      <th>25%</th>\n",
       "      <td>7.700000</td>\n",
       "      <td>70.000000</td>\n",
       "      <td>5.552625e+04</td>\n",
       "    </tr>\n",
       "    <tr>\n",
       "      <th>50%</th>\n",
       "      <td>7.900000</td>\n",
       "      <td>79.000000</td>\n",
       "      <td>1.385485e+05</td>\n",
       "    </tr>\n",
       "    <tr>\n",
       "      <th>75%</th>\n",
       "      <td>8.100000</td>\n",
       "      <td>87.000000</td>\n",
       "      <td>3.741612e+05</td>\n",
       "    </tr>\n",
       "    <tr>\n",
       "      <th>max</th>\n",
       "      <td>9.300000</td>\n",
       "      <td>100.000000</td>\n",
       "      <td>2.343110e+06</td>\n",
       "    </tr>\n",
       "  </tbody>\n",
       "</table>\n",
       "</div>"
      ],
      "text/plain": [
       "            Rating  Meta_score         votes\n",
       "count  1000.000000  843.000000  1.000000e+03\n",
       "mean      7.949300   77.971530  2.736929e+05\n",
       "std       0.275491   12.376099  3.273727e+05\n",
       "min       7.600000   28.000000  2.508800e+04\n",
       "25%       7.700000   70.000000  5.552625e+04\n",
       "50%       7.900000   79.000000  1.385485e+05\n",
       "75%       8.100000   87.000000  3.741612e+05\n",
       "max       9.300000  100.000000  2.343110e+06"
      ]
     },
     "execution_count": 5,
     "metadata": {},
     "output_type": "execute_result"
    }
   ],
   "source": [
    "# Check columns\n",
    "df.info()\n",
    "df.describe()"
   ]
  },
  {
   "cell_type": "code",
   "execution_count": 6,
   "id": "44cbe660-4697-4fb7-9aa3-f3848c21cdee",
   "metadata": {},
   "outputs": [
    {
     "data": {
      "text/plain": [
       "(1000, 15)"
      ]
     },
     "execution_count": 6,
     "metadata": {},
     "output_type": "execute_result"
    }
   ],
   "source": [
    "df.shape"
   ]
  },
  {
   "cell_type": "code",
   "execution_count": 7,
   "id": "ebc024ca-9035-4bad-88bb-204dc1b047ef",
   "metadata": {},
   "outputs": [
    {
     "name": "stdout",
     "output_type": "stream",
     "text": [
      "Poster_Link      0\n",
      "Movies           0\n",
      "Year             0\n",
      "Certificate    101\n",
      "Duration         0\n",
      "Genre            0\n",
      "Rating           0\n",
      "Overview         0\n",
      "Meta_score     157\n",
      "Director         0\n",
      "Actor 1          0\n",
      "Actor 2          0\n",
      "Actor 3          0\n",
      "Actor 4          0\n",
      "votes            0\n",
      "dtype: int64\n"
     ]
    }
   ],
   "source": [
    "# Missing values\n",
    "print(df.isnull().sum())"
   ]
  },
  {
   "cell_type": "code",
   "execution_count": 8,
   "id": "0b36d205-7f04-41f8-b2af-d156a6c62be6",
   "metadata": {},
   "outputs": [],
   "source": [
    "#Fix Duration: remove \" min\" and convert to int\n",
    "df['Duration'] = df['Duration'].str.replace(' min', '').astype(int)\n",
    "\n",
    "# Handle Certificate (categorical with missing values)\n",
    "df['Certificate'] = df['Certificate'].fillna(\"Unknown\")\n",
    "\n",
    "# Handle Meta_score (fill missing with median)\n",
    "df['Meta_score'] = df['Meta_score'].fillna(df['Meta_score'].median())\n"
   ]
  },
  {
   "cell_type": "code",
   "execution_count": 9,
   "id": "d5cb93da-7ea2-4385-aafa-11792bdd0ccd",
   "metadata": {},
   "outputs": [
    {
     "name": "stdout",
     "output_type": "stream",
     "text": [
      "Poster_Link    0\n",
      "Movies         0\n",
      "Year           0\n",
      "Certificate    0\n",
      "Duration       0\n",
      "Genre          0\n",
      "Rating         0\n",
      "Overview       0\n",
      "Meta_score     0\n",
      "Director       0\n",
      "Actor 1        0\n",
      "Actor 2        0\n",
      "Actor 3        0\n",
      "Actor 4        0\n",
      "votes          0\n",
      "dtype: int64\n"
     ]
    }
   ],
   "source": [
    "print(df.isnull().sum())"
   ]
  },
  {
   "cell_type": "code",
   "execution_count": 10,
   "id": "440aa3e9-4f5c-4c8a-b3d7-6447c83b1b59",
   "metadata": {},
   "outputs": [
    {
     "data": {
      "image/png": "[encoded data removed]",
      "text/plain": [
       "<Figure size 640x480 with 1 Axes>"
      ]
     },
     "metadata": {},
     "output_type": "display_data"
    }
   ],
   "source": [
    "# Distribution of ratings\n",
    "sns.histplot(df['Rating'], bins=20, kde=True)\n",
    "plt.title(\"Rating Distribution\")\n",
    "plt.show()"
   ]
  },
  {
   "cell_type": "code",
   "execution_count": 11,
   "id": "1fcc72a1-7db9-48fd-8d58-aa912af15861",
   "metadata": {},
   "outputs": [],
   "source": [
    "# Ensure all values are treated as string, then remove 'min'\n",
    "df['Duration'] = df['Duration'].astype(str).str.replace('min', '').str.strip()\n",
    "df['Duration'] = pd.to_numeric(df['Duration'], errors='coerce')\n",
    "\n",
    "df['Year'] = pd.to_numeric(df['Year'], errors='coerce').astype('Int64')\n",
    "\n",
    "df['Meta_score'] = pd.to_numeric(df['Meta_score'], errors='coerce').astype('Int64')"
   ]
  },
  {
   "cell_type": "code",
   "execution_count": 12,
   "id": "51a72c22-a80b-46a8-95bf-c0bf6a12c29d",
   "metadata": {},
   "outputs": [
    {
     "name": "stdout",
     "output_type": "stream",
     "text": [
      "<class 'pandas.core.frame.DataFrame'>\n",
      "RangeIndex: 1000 entries, 0 to 999\n",
      "Data columns (total 15 columns):\n",
      " #   Column       Non-Null Count  Dtype  \n",
      "---  ------       --------------  -----  \n",
      " 0   Poster_Link  1000 non-null   object \n",
      " 1   Movies       1000 non-null   object \n",
      " 2   Year         999 non-null    Int64  \n",
      " 3   Certificate  1000 non-null   object \n",
      " 4   Duration     1000 non-null   int64  \n",
      " 5   Genre        1000 non-null   object \n",
      " 6   Rating       1000 non-null   float64\n",
      " 7   Overview     1000 non-null   object \n",
      " 8   Meta_score   1000 non-null   Int64  \n",
      " 9   Director     1000 non-null   object \n",
      " 10  Actor 1      1000 non-null   object \n",
      " 11  Actor 2      1000 non-null   object \n",
      " 12  Actor 3      1000 non-null   object \n",
      " 13  Actor 4      1000 non-null   object \n",
      " 14  votes        1000 non-null   int64  \n",
      "dtypes: Int64(2), float64(1), int64(2), object(10)\n",
      "memory usage: 119.3+ KB\n"
     ]
    }
   ],
   "source": [
    "df.info()"
   ]
  },
  {
   "cell_type": "code",
   "execution_count": 14,
   "id": "78d9c81c-7d88-4eb1-91a8-228982684052",
   "metadata": {},
   "outputs": [
    {
     "name": "stdout",
     "output_type": "stream",
     "text": [
      "   Certificate                       Genre              Director  \\\n",
      "0            A                       Drama        Frank Darabont   \n",
      "1            A                Crime, Drama  Francis Ford Coppola   \n",
      "2           UA        Action, Crime, Drama     Christopher Nolan   \n",
      "3            A                Crime, Drama  Francis Ford Coppola   \n",
      "4            U                Crime, Drama          Sidney Lumet   \n",
      "5            U    Action, Adventure, Drama         Peter Jackson   \n",
      "6            A                Crime, Drama     Quentin Tarantino   \n",
      "7            A   Biography, Drama, History      Steven Spielberg   \n",
      "8           UA   Action, Adventure, Sci-Fi     Christopher Nolan   \n",
      "9            A                       Drama         David Fincher   \n",
      "10           U    Action, Adventure, Drama         Peter Jackson   \n",
      "11          UA              Drama, Romance       Robert Zemeckis   \n",
      "12           A                     Western          Sergio Leone   \n",
      "13          UA    Action, Adventure, Drama         Peter Jackson   \n",
      "14           A              Action, Sci-Fi        Lana Wachowski   \n",
      "15           A     Biography, Crime, Drama       Martin Scorsese   \n",
      "16          UA  Action, Adventure, Fantasy        Irvin Kershner   \n",
      "17           A                       Drama          Milos Forman   \n",
      "18       PG-13   Biography, Drama, History           Thomas Kail   \n",
      "19           A     Comedy, Drama, Thriller          Bong Joon Ho   \n",
      "\n",
      "               Actor 1  Year  Duration  Meta_score    votes  \n",
      "0          Tim Robbins  1994       142          80  2343110  \n",
      "1        Marlon Brando  1972       175         100  1620367  \n",
      "2       Christian Bale  2008       152          84  2303232  \n",
      "3            Al Pacino  1974       202          90  1129952  \n",
      "4          Henry Fonda  1957        96          96   689845  \n",
      "5          Elijah Wood  2003       201          94  1642758  \n",
      "6        John Travolta  1994       154          94  1826188  \n",
      "7          Liam Neeson  1993       195          94  1213505  \n",
      "8    Leonardo DiCaprio  2010       148          74  2067042  \n",
      "9            Brad Pitt  1999       139          66  1854740  \n",
      "10         Elijah Wood  2001       178          92  1661481  \n",
      "11           Tom Hanks  1994       142          82  1809221  \n",
      "12      Clint Eastwood  1966       161          90   688390  \n",
      "13         Elijah Wood  2002       179          87  1485555  \n",
      "14     Lilly Wachowski  1999       136          73  1676426  \n",
      "15      Robert De Niro  1990       146          90  1020727  \n",
      "16         Mark Hamill  1980       124          82  1159315  \n",
      "17      Jack Nicholson  1975       133          83   918088  \n",
      "18  Lin-Manuel Miranda  2020       160          90    55291  \n",
      "19        Kang-ho Song  2019       132          96   552778  \n",
      "Certificate     17\n",
      "Genre          202\n",
      "Director       548\n",
      "Actor 1        660\n",
      "Year            99\n",
      "Duration       140\n",
      "Meta_score      63\n",
      "votes          999\n",
      "dtype: int64\n"
     ]
    }
   ],
   "source": [
    "print(df[categorical_cols + numeric_cols].head(20))\n",
    "print(df[categorical_cols + numeric_cols].nunique())"
   ]
  },
  {
   "cell_type": "code",
   "execution_count": 16,
   "id": "4923003f-cadf-4feb-b833-fa2b3f42b932",
   "metadata": {},
   "outputs": [
    {
     "name": "stdout",
     "output_type": "stream",
     "text": [
      "[142 175 152 202  96 201 154 195 148 139 178 161 179 136 146 124 133 160\n",
      " 132 153]\n",
      "<IntegerArray>\n",
      "[80, 100, 84, 90, 96, 94, 74, 66, 92, 82, 87, 73, 83, 79, 91, 61, 59, 65, 85,\n",
      " 98]\n",
      "Length: 20, dtype: Int64\n",
      "[2343110 1620367 2303232 1129952  689845 1642758 1826188 1213505 2067042\n",
      " 1854740 1661481 1809221  688390 1485555 1676426 1020727 1159315  918088\n",
      "   55291  552778]\n"
     ]
    }
   ],
   "source": [
    "print(df['Duration'].unique()[:20])\n",
    "print(df['Meta_score'].unique()[:20])\n",
    "print(df['votes'].unique()[:20])"
   ]
  },
  {
   "cell_type": "code",
   "execution_count": 18,
   "id": "9cf50b49-df02-4b91-aab6-29275bf0ba55",
   "metadata": {},
   "outputs": [
    {
     "name": "stdout",
     "output_type": "stream",
     "text": [
      "Year          1\n",
      "Duration      0\n",
      "Meta_score    0\n",
      "votes         0\n",
      "dtype: int64\n"
     ]
    }
   ],
   "source": [
    "print(df[numeric_cols].isnull().sum())"
   ]
  },
  {
   "cell_type": "code",
   "execution_count": 24,
   "id": "bec107e4-99ee-475b-b698-d5864c838ff4",
   "metadata": {},
   "outputs": [
    {
     "name": "stdout",
     "output_type": "stream",
     "text": [
      "Year          0\n",
      "Duration      0\n",
      "Meta_score    0\n",
      "votes         0\n",
      "dtype: int64\n"
     ]
    }
   ],
   "source": [
    "df['Year'] = df['Year'].fillna(df['Year'].median())\n",
    "print(df[numeric_cols].isnull().sum())"
   ]
  },
  {
   "cell_type": "code",
   "execution_count": 26,
   "id": "40608031-d486-4237-9db0-5257fa7f64ad",
   "metadata": {},
   "outputs": [],
   "source": [
    "from sklearn.model_selection import train_test_split\n",
    "from sklearn.pipeline import Pipeline\n",
    "from sklearn.compose import ColumnTransformer\n",
    "from sklearn.preprocessing import OneHotEncoder, StandardScaler\n",
    "from sklearn.ensemble import RandomForestRegressor\n",
    "\n",
    "# Define columns\n",
    "categorical_cols = ['Certificate', 'Genre', 'Director', 'Actor 1']\n",
    "numeric_cols = ['Year', 'Duration', 'Meta_score', 'votes']\n",
    "\n",
    "# Features & target\n",
    "X = df[categorical_cols + numeric_cols]\n",
    "y = df['Rating']   # target column\n",
    "\n",
    "# Split\n",
    "X_train, X_test, y_train, y_test = train_test_split(\n",
    "    X, y, test_size=0.2, random_state=42\n",
    ")\n",
    "\n",
    "# Preprocessor\n",
    "preprocessor = ColumnTransformer(\n",
    "    transformers=[\n",
    "        ('categorical', OneHotEncoder(handle_unknown='ignore'), categorical_cols),\n",
    "        ('numeric', StandardScaler(), numeric_cols)\n",
    "    ]\n",
    ")\n",
    "\n",
    "# Pipeline (preprocessing + model)\n",
    "model = Pipeline(steps=[\n",
    "    ('preprocessor', preprocessor),\n",
    "    ('regressor', RandomForestRegressor(random_state=42))\n",
    "])\n",
    "\n",
    "# Train\n",
    "model.fit(X_train, y_train)\n",
    "\n",
    "# Predict\n",
    "y_pred = model.predict(X_test)"
   ]
  },
  {
   "cell_type": "code",
   "execution_count": 28,
   "id": "31f110dc-c988-4102-8a31-dca4fab41c08",
   "metadata": {},
   "outputs": [
    {
     "name": "stdout",
     "output_type": "stream",
     "text": [
      "Mean Absolute Error: 0.15643999999999958\n",
      "Root Mean Squared Error: 0.2023656097265536\n",
      "R² Score: 0.36116560589043145\n"
     ]
    }
   ],
   "source": [
    "from sklearn.metrics import mean_absolute_error, mean_squared_error, r2_score\n",
    "import numpy as np\n",
    "\n",
    "mae = mean_absolute_error(y_test, y_pred)\n",
    "mse = mean_squared_error(y_test, y_pred)\n",
    "rmse = np.sqrt(mse)\n",
    "r2 = r2_score(y_test, y_pred)\n",
    "\n",
    "print(\"Mean Absolute Error:\", mae)\n",
    "print(\"Root Mean Squared Error:\", rmse)\n",
    "print(\"R² Score:\", r2)"
   ]
  },
  {
   "cell_type": "code",
   "execution_count": null,
   "id": "ef17c0d5-22a2-4f74-9664-5794f1dfed91",
   "metadata": {},
   "outputs": [],
   "source": [
    "############ Improving ############"
   ]
  },
  {
   "cell_type": "code",
   "execution_count": 37,
   "id": "b1b2b4f4-3f3f-47b9-9b80-4b32bc2c057f",
   "metadata": {},
   "outputs": [],
   "source": [
    "import pandas as pd\n",
    "import numpy as np\n",
    "\n",
    "df2 = df.copy()\n",
    "\n",
    "# ✅ Convert Duration \"142 min\" → 142\n",
    "df2['Duration'] = (\n",
    "    df2['Duration']\n",
    "    .astype(str)                         # force to string\n",
    "    .str.replace(' min', '', regex=False)\n",
    "    .replace('nan', np.nan)              # turn 'nan' back to real NaN\n",
    "    .astype(float)\n",
    ")\n",
    "\n",
    "# ✅ Extract decade from Year (float → int → decade)\n",
    "df2['Decade'] = (df2['Year'].fillna(0).astype(int) // 10) * 10\n",
    "\n",
    "# ✅ Combine actors into one string\n",
    "df2['All_Actors'] = (\n",
    "    df2[['Actor 1', 'Actor 2', 'Actor 3', 'Actor 4']]\n",
    "    .fillna('')\n",
    "    .astype(str)\n",
    "    .agg(' '.join, axis=1)\n",
    ")\n",
    "\n",
    "# ✅ Ensure Genre is string, then one-hot encode\n",
    "df2 = df2.join(df2['Genre'].fillna('').astype(str).str.get_dummies(sep=','))\n",
    "\n",
    "# ✅ Drop unused cols\n",
    "df2 = df2.drop(['Poster_Link', 'Movies', 'Overview', 'Actor 1', 'Actor 2', 'Actor 3', 'Actor 4'], axis=1)"
   ]
  },
  {
   "cell_type": "code",
   "execution_count": 39,
   "id": "ad705cc3-9943-4ea6-a60c-62fefd6361d0",
   "metadata": {},
   "outputs": [],
   "source": [
    "# Target\n",
    "y = df2['Rating']\n",
    "\n",
    "# Features\n",
    "X = df2.drop(['Rating'], axis=1)\n",
    "\n",
    "categorical_cols = ['Certificate', 'Director', 'All_Actors']\n",
    "numeric_cols = ['Year', 'Duration', 'Meta_score', 'votes', 'Decade'] + list(df2['Genre'].str.get_dummies(sep=',').columns)"
   ]
  },
  {
   "cell_type": "code",
   "execution_count": 41,
   "id": "f149568e-4398-440d-9c60-0f4581d5b6e1",
   "metadata": {},
   "outputs": [],
   "source": [
    "from sklearn.model_selection import train_test_split, GridSearchCV\n",
    "from sklearn.compose import ColumnTransformer\n",
    "from sklearn.preprocessing import OneHotEncoder, StandardScaler\n",
    "from xgboost import XGBRegressor\n",
    "from sklearn.pipeline import Pipeline\n",
    "\n",
    "# Split\n",
    "X_train, X_test, y_train, y_test = train_test_split(X, y, test_size=0.2, random_state=42)\n",
    "\n",
    "# Preprocessor\n",
    "preprocessor = ColumnTransformer(\n",
    "    transformers=[\n",
    "        ('categorical', OneHotEncoder(handle_unknown='ignore', max_categories=50), categorical_cols),\n",
    "        ('numeric', StandardScaler(), numeric_cols)\n",
    "    ]\n",
    ")\n",
    "\n",
    "# XGBoost regressor\n",
    "xgb = XGBRegressor(objective='reg:squarederror', random_state=42)\n",
    "\n",
    "# Full pipeline\n",
    "model = Pipeline(steps=[\n",
    "    ('preprocessor', preprocessor),\n",
    "    ('regressor', xgb)\n",
    "])"
   ]
  },
  {
   "cell_type": "code",
   "execution_count": 43,
   "id": "3879b724-3916-4f7a-a775-85ab3e3f70fd",
   "metadata": {},
   "outputs": [
    {
     "name": "stdout",
     "output_type": "stream",
     "text": [
      "Fitting 3 folds for each of 36 candidates, totalling 108 fits\n",
      "Best Params: {'regressor__learning_rate': 0.05, 'regressor__max_depth': 4, 'regressor__n_estimators': 100, 'regressor__subsample': 0.8}\n"
     ]
    }
   ],
   "source": [
    "# Define parameter grid\n",
    "param_grid = {\n",
    "    'regressor__n_estimators': [100, 200],\n",
    "    'regressor__max_depth': [4, 6, 8],\n",
    "    'regressor__learning_rate': [0.05, 0.1, 0.2],\n",
    "    'regressor__subsample': [0.8, 1.0]\n",
    "}\n",
    "\n",
    "grid_search = GridSearchCV(model, param_grid, cv=3, scoring='r2', n_jobs=-1, verbose=2)\n",
    "grid_search.fit(X_train, y_train)\n",
    "\n",
    "# Best model\n",
    "best_model = grid_search.best_estimator_\n",
    "print(\"Best Params:\", grid_search.best_params_)"
   ]
  },
  {
   "cell_type": "code",
   "execution_count": 45,
   "id": "a74f6108-8555-4c33-adfb-bb1471987cfd",
   "metadata": {},
   "outputs": [
    {
     "name": "stdout",
     "output_type": "stream",
     "text": [
      "Improved MAE: 0.15876643037796023\n",
      "Improved RMSE: 0.1999539756614314\n",
      "Improved R²: 0.3763011296828235\n"
     ]
    }
   ],
   "source": [
    "from sklearn.metrics import mean_absolute_error, mean_squared_error, r2_score\n",
    "\n",
    "y_pred = best_model.predict(X_test)\n",
    "\n",
    "mae = mean_absolute_error(y_test, y_pred)\n",
    "rmse = np.sqrt(mean_squared_error(y_test, y_pred))\n",
    "r2 = r2_score(y_test, y_pred)\n",
    "\n",
    "print(\"Improved MAE:\", mae)\n",
    "print(\"Improved RMSE:\", rmse)\n",
    "print(\"Improved R²:\", r2)"
   ]
  },
  {
   "cell_type": "code",
   "execution_count": null,
   "id": "94053bbb-aba9-4cc4-ae98-524e692ed924",
   "metadata": {},
   "outputs": [],
   "source": []
  },
  {
   "cell_type": "code",
   "execution_count": null,
   "id": "1bc5bb77-7ada-4f9a-8a0a-f423e5bf2440",
   "metadata": {},
   "outputs": [],
   "source": []
  },
  {
   "cell_type": "code",
   "execution_count": null,
   "id": "525833df-ce7a-4da9-b8bc-ae97ff254d8e",
   "metadata": {},
   "outputs": [],
   "source": []
  },
  {
   "cell_type": "code",
   "execution_count": null,
   "id": "17a7498f-660a-46f6-98e5-87952108d4a4",
   "metadata": {},
   "outputs": [],
   "source": []
  },
  {
   "cell_type": "code",
   "execution_count": null,
   "id": "95530325-51a5-49d3-ad51-0b62c8262d80",
   "metadata": {},
   "outputs": [],
   "source": []
  }
 ],
 "metadata": {
  "kernelspec": {
   "display_name": "Python [conda env:base] *",
   "language": "python",
   "name": "conda-base-py"
  },
  "language_info": {
   "codemirror_mode": {
    "name": "ipython",
    "version": 3
   },
   "file_extension": ".py",
   "mimetype": "text/x-python",
   "name": "python",
   "nbconvert_exporter": "python",
   "pygments_lexer": "ipython3",
   "version": "3.12.7"
  }
 },
 "nbformat": 4,
 "nbformat_minor": 5
}
